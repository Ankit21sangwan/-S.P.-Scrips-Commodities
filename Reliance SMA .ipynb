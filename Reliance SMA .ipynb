{
 "cells": [
  {
   "cell_type": "code",
   "execution_count": 2,
   "id": "351cff55",
   "metadata": {},
   "outputs": [],
   "source": [
    "import yfinance as yf\n",
    "\n",
    "data = yf.Ticker('RELIANCE.NS')\n",
    "reliance_data = data.history(period='1y')[['Close']]\n",
    "reliance_data['SMA_20'] = reliance_data['Close'].rolling(window=20).mean()\n",
    "reliance_data['SMA_50'] = reliance_data['Close'].rolling(window=50).mean()\n",
    "reliance_data.to_excel(\"Reliance1excel.xlsx\",columns=['SMA_20','SMA_50'],index= False)"
   ]
  },
  {
   "cell_type": "code",
   "execution_count": null,
   "id": "618fffee",
   "metadata": {},
   "outputs": [],
   "source": []
  }
 ],
 "metadata": {
  "kernelspec": {
   "display_name": "Python 3",
   "language": "python",
   "name": "python3"
  },
  "language_info": {
   "codemirror_mode": {
    "name": "ipython",
    "version": 3
   },
   "file_extension": ".py",
   "mimetype": "text/x-python",
   "name": "python",
   "nbconvert_exporter": "python",
   "pygments_lexer": "ipython3",
   "version": "3.8.8"
  }
 },
 "nbformat": 4,
 "nbformat_minor": 5
}
